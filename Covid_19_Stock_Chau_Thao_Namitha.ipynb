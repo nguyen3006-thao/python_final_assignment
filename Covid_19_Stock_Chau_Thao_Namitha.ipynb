{
  "nbformat": 4,
  "nbformat_minor": 0,
  "metadata": {
    "colab": {
      "provenance": []
    },
    "kernelspec": {
      "name": "python3",
      "display_name": "Python 3"
    },
    "language_info": {
      "name": "python"
    }
  },
  "cells": [
    {
      "cell_type": "markdown",
      "source": [
        "Group: Chau Le, Namitha Paul, Thao Nguyen\n",
        "\n",
        "*   https://github.com/nguyen3006-thao/python_final_assignment"
      ],
      "metadata": {
        "id": "8_7Tm1wYSP0t"
      }
    }
  ]
}